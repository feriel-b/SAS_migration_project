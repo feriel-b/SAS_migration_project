{
 "cells": [
  {
   "cell_type": "markdown",
   "id": "6727deb6",
   "metadata": {},
   "source": [
    "| statement | output_table | WRITE_BACK | write_back_type | file_path | INCLUDE_PATH | DEPENDENCY_EXISTS | LET_STATEMENT | MACRO_CALL | tables_sourcejoin | referenced_table | libref | MISSING_CONNECTION | connection_issue | Input tables | import proc | PROC_SQL | export proc | DB_CONNECTION | connection_type | engine | connection_name | libname_connections | sql_connections |\n",
    "|-----------|-------------|------------|-----------------|-----------|--------------|------------------|---------------|------------|------------------|------------------|---------|------------------|------------------|---------------|-------------|-----------|-------------|---------------|----------------|--------|----------------|---------------------|-----------------|\n",
    "| %macro outer_macro | null | NO | null | null | null | NO | %let status = SUCCESS; %let status = WARNING; %let status = ERROR | %inner_macro(1) | null | null | null | NO | null | null | null | NO | null | NO | null | null | null | null | null |\n",
    "| %macro inner_macro(param) | null | NO | null | null | null | NO | %let status = SUCCESS; %let status = WARNING; %let status = ERROR | null | null | null | null | NO | null | null | null | NO | null | NO | null | null | null | null | null |\n",
    "| %outer_macro | null | NO | null | null | null | NO | null | %outer_macro | null | null | null | NO | null | null | null | NO | null | NO | null | null | null | null | null |\n",
    "| %macro risky_macro(data=, where=, class=) | null | NO | null | null | null | NO | null | null | null | null | null | NO | null | null | null | NO | null | NO | null | null | null | null | null |\n",
    "| proc freq data=&data | null | NO | null | null | null | YES | null | null | null | sashelp.class | sashelp | NO | null | sashelp.class | null | NO | null | NO | null | null | null | null | null |\n",
    "| %risky_macro(data=sashelp.class, where=age>12, class=sex) | null | NO | null | null | null | YES | null | %risky_macro(data=sashelp.class, where=age>12, class=sex) | null | sashelp.class | sashelp | NO | null | sashelp.class | null | NO | null | NO | null | null | null | null | null |\n",
    "| filename outfile | null | YES | FILE | %sysfunc(getoption(WORK))/output.txt | null | NO | null | %sysfunc(getoption(WORK)) | null | null | null | NO | null | null | null | NO | null | NO | null | null | null | null | null |\n",
    "| data _null_ | _null_ | YES | FILE | %sysfunc(getoption(WORK))/output.txt | null | YES | null | null | null | sashelp.class | sashelp | NO | null | sashelp.class | null | NO | null | NO | null | null | null | null | null |\n",
    "| data merged_data | merged_data | NO | null | null | null | YES | null | null | sashelp.class + sashelp.cars | sashelp.class, sashelp.cars | sashelp | NO | null | sashelp.class, sashelp.cars | null | NO | null | NO | null | null | null | null | null |\n",
    "| data array_test | array_test | NO | null | null | null | NO | null | null | null | null | null | NO | null | null | null | NO | null | NO | null | null | null | null | null |\n",
    "| proc sql | oracle_data | NO | null | null | null | YES | null | null | null | oracle.customers | oracle | YES | Implicit Oracle pass-through without explicit connection | oracle.customers | null | YES | null | YES | Oracle | oracle | oracle | null | oracle |\n",
    "| proc sql | null | YES | DATABASE | null | null | YES | null | null | null | &table, audit_log | oracle | NO | null | &table | null | YES | null | YES | Oracle | oracle | oracle | null | oracle |\n",
    "| libname mydb odbc | null | NO | null | null | null | NO | null | null | null | null | mydb | NO | Embedded credentials in connection string | null | null | NO | null | YES | ODBC | odbc | mydb | mydb | null |\n",
    "| proc sql | null | NO | null | null | null | YES | null | null | null | sales.transactions | null | YES | Missing disconnect - potential connection leak | sales.transactions | null | YES | null | YES | Teradata | teradata | teradata | null | teradata |\n",
    "| %let dataset1 = sashelp.class | null | NO | null | null | null | NO | %let dataset1 = sashelp.class | null | null | null | null | NO | null | null | null | NO | null | NO | null | null | null | null | null |\n",
    "| %let dataset2 = sashelp.cars | null | NO | null | null | null | NO | %let dataset2 = sashelp.cars | null | null | null | null | NO | null | null | null | NO | null | NO | null | null | null | null | null |\n",
    "| %let i = 1 | null | NO | null | null | null | NO | %let i = 1 | null | null | null | null | NO | null | null | null | NO | null | NO | null | null | null | null | null |\n",
    "| proc contents data=&&dataset&i | null | NO | null | null | null | YES | null | null | null | sashelp.class | sashelp | NO | null | sashelp.class | null | NO | null | NO | null | null | null | null | null |\n",
    "| %let bad_path = %str(C:\\Program Files\\SAS\\Data) | null | NO | null | C:\\Program Files\\SAS\\Data | null | NO | %let bad_path = %str(C:\\Program Files\\SAS\\Data) | %str(C:\\Program Files\\SAS\\Data) | null | null | null | NO | null | null | null | NO | null | NO | null | null | null | null | null |\n",
    "| %let sql_cond = %nostr(name like \"%Smith%\") | null | NO | null | null | null | NO | %let sql_cond = %nostr(name like \"%Smith%\") | %nostr(name like \"%Smith%\") | null | null | null | NO | null | null | null | NO | null | NO | null | null | null | null | null |\n",
    "| data test | test | NO | null | null | null | NO | null | null | null | null | null | NO | Runtime failure if path invalid | null | null | NO | null | NO | null | null | null | null | null |\n",
    "| filename remote | null | YES | FILE | \\\\server\\share\\data.csv | null | NO | null | null | null | null | null | NO | null | null | null | NO | null | NO | null | null | null | null | null |\n",
    "| filename temp | null | YES | FILE | %sysget(TEMP)\\output.txt | null | NO | null | %sysget(TEMP) | null | null | null | NO | null | null | null | NO | null | NO | null | null | null | null | null |\n",
    "| data _null_ | _null_ | YES | FILE | %sysget(TEMP)\\output.txt | null | NO | null | null | null | null | null | NO | null | null | null | NO | null | NO | null | null | null | null | null |\n",
    "| %if %sysfunc(fileexist(/invalid/path)) %then | null | NO | null | /invalid/path | null | NO | null | %sysfunc(fileexist(/invalid/path)) | null | null | null | NO | null | null | null | NO | null | NO | null | null | null | null | null |\n",
    "| options obs=0 | null | NO | null | null | null | NO | null | null | null | null | null | NO | null | null | null | NO | null | NO | null | null | null | null | null |\n",
    "| proc means data=sashelp.class | null | NO | null | null | null | YES | null | null | null | sashelp.class | sashelp | NO | null | sashelp.class | null | NO | null | NO | null | null | null | null | null |\n",
    "| options obs=max | null | NO | null | null | null | NO | null | null | null | null | null | NO | null | null | null | NO | null | NO | null | null | null | null | null |\n",
    "| filename response temp | null | YES | FILE | null | null | NO | null | null | null | null | null | NO | null | null | null | NO | null | NO | null | null | null | null | null |\n",
    "| proc http | null | YES | API | https://api.example.com/data | null | NO | null | null | null | null | null | NO | null | null | null | NO | null | NO | null | null | null | null | null |\n",
    "| data test | test | NO | null | null | null | YES | null | null | null | sashelp.class | sashelp | NO | null | sashelp.class | null | NO | null | NO | null | null | null | null | null |\n",
    "| %let outname = mylib.results | null | NO | null | null | null | NO | %let outname = mylib.results | null | null | null | null | NO | null | null | null | NO | null | NO | null | null | null | null | null |\n",
    "| proc means data=sashelp.class noprint | &outname | YES | DATASET | null | null | YES | null | null | null | sashelp.class | sashelp, mylib | NO | null | sashelp.class | null | NO | null | NO | null | null | null | null | null |\n",
    "| data out1 out2 out3 | out1, out2, out3 | NO | null | null | null | YES | null | null | null | sashelp.class | sashelp | NO | null | sashelp.class | null | NO | null | NO | null | null | null | null | null |\n",
    "| %macro test() | null | NO | null | null | null | NO | null | null | null | null | null | NO | null | null | null | NO | null | NO | null | null | null | null | null |\n",
    "| data work.error | work.error | NO | null | null | null | YES | null | null | null | sashelp.class | sashelp, work | NO | null | sashelp.class | null | NO | null | NO | null | null | null | null | null |\n",
    "| filename outfile clear | null | NO | null | null | null | NO | null | null | null | null | null | NO | null | null | null | NO | null | NO | null | null | null | null | null |\n",
    "| filename remote clear | null | NO | null | null | null | NO | null | null | null | null | null | NO | null | null | null | NO | null | NO | null | null | null | null | null |\n",
    "| filename temp clear | null | NO | null | null | null | NO | null | null | null | null | null | NO | null | null | null | NO | null | NO | null | null | null | null | null |\n",
    "| filename response clear | null | NO | null | null | null | NO | null | null | null | null | null | NO | null | null | null | NO | null | NO | null | null | null | null | null |\n",
    "| libname mydb clear | null | NO | null | null | null | NO | null | null | null | null | mydb | NO | null | null | null | NO | null | NO | null | null | null | null | null |\n",
    "| options obs=max | null | NO | null | null | null | NO | null | null | null | null | null | NO | null | null | null | NO | null | NO | null | null | null | null | null |"
   ]
  }
 ],
 "metadata": {
  "language_info": {
   "name": "python"
  }
 },
 "nbformat": 4,
 "nbformat_minor": 5
}
