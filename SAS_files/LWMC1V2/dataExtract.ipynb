{
 "cells": [
  {
   "cell_type": "code",
   "execution_count": null,
   "id": "1725efb9",
   "metadata": {},
   "outputs": [
    {
     "name": "stdout",
     "output_type": "stream",
     "text": [
      "hello\n"
     ]
    },
    {
     "ename": "",
     "evalue": "",
     "output_type": "error",
     "traceback": [
      "\u001b[1;31mThe Kernel crashed while executing code in the current cell or a previous cell. \n",
      "\u001b[1;31mPlease review the code in the cell(s) to identify a possible cause of the failure. \n",
      "\u001b[1;31mClick <a href='https://aka.ms/vscodeJupyterKernelCrash'>here</a> for more info. \n",
      "\u001b[1;31mView Jupyter <a href='command:jupyter.viewOutput'>log</a> for further details."
     ]
    }
   ],
   "source": [
    "print(\"hello\")"
   ]
  },
  {
   "cell_type": "code",
   "execution_count": null,
   "id": "c157ca86",
   "metadata": {},
   "outputs": [],
   "source": [
    "import glob\n",
    "import os\n",
    "\n",
    "# Update this path to where your .sas files are stored\n",
    "sas_files = glob.glob(\"sas_files/*.sas\")  # example: \"project/*.sas\"\n",
    "\n",
    "all_lines = []\n",
    "\n",
    "for filepath in sas_files:\n",
    "    with open(filepath, 'r', encoding='utf-8', errors='ignore') as f:\n",
    "        for lineno, line in enumerate(f, start=1):\n",
    "            all_lines.append({\n",
    "                \"filepath\": filepath,\n",
    "                \"line_number\": lineno,\n",
    "                \"line_of_code\": line.strip()\n",
    "            })\n",
    "\n",
    "print(f\"Loaded {len(all_lines)} lines from {len(sas_files)} file(s).\")\n"
   ]
  }
 ],
 "metadata": {
  "kernelspec": {
   "display_name": "base",
   "language": "python",
   "name": "python3"
  },
  "language_info": {
   "codemirror_mode": {
    "name": "ipython",
    "version": 3
   },
   "file_extension": ".py",
   "mimetype": "text/x-python",
   "name": "python",
   "nbconvert_exporter": "python",
   "pygments_lexer": "ipython3",
   "version": "3.12.3"
  }
 },
 "nbformat": 4,
 "nbformat_minor": 5
}
